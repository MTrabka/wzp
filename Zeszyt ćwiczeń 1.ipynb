{
 "cells": [
  {
   "cell_type": "markdown",
   "id": "2ad952ee",
   "metadata": {},
   "source": [
    "## Przydatne skróty klawiszowe"
   ]
  },
  {
   "cell_type": "markdown",
   "id": "eb791dbd",
   "metadata": {},
   "source": [
    "* `Shift + Enter` - uruchomienie kodu\n",
    "\n",
    "\n",
    "* `Esc + b` - utworzenie nowej komórki\n",
    "\n",
    "\n",
    "* `Esc + m` - zamiana komórki na komórkę z komentarzem\n",
    "\n",
    "\n",
    "* `Ctrl + Shift + Minus` - dzielenie komórki na pół\n",
    "\n",
    "\n",
    "* `Shift + Tab` - pokazuje informacje o funkcji"
   ]
  },
  {
   "cell_type": "markdown",
   "id": "6c3b0eb2",
   "metadata": {},
   "source": [
    "# Pierwszy program"
   ]
  },
  {
   "cell_type": "code",
   "execution_count": null,
   "id": "91750207",
   "metadata": {},
   "outputs": [],
   "source": [
    "print('Hello world')"
   ]
  },
  {
   "cell_type": "markdown",
   "id": "0c136937",
   "metadata": {},
   "source": [
    "# Wyświetlanie zmiennych"
   ]
  },
  {
   "cell_type": "markdown",
   "id": "ce7ba48d",
   "metadata": {},
   "source": [
    "### int i float"
   ]
  },
  {
   "cell_type": "code",
   "execution_count": null,
   "id": "20f384fa",
   "metadata": {
    "scrolled": true
   },
   "outputs": [],
   "source": [
    "zmienna = 4\n",
    "print(zmienna)"
   ]
  },
  {
   "cell_type": "code",
   "execution_count": null,
   "id": "89111f32",
   "metadata": {},
   "outputs": [],
   "source": [
    "zmienna = 4\n",
    "print(\"zmienna\")"
   ]
  },
  {
   "cell_type": "markdown",
   "id": "e5310cf9",
   "metadata": {},
   "source": [
    "Z czego wynika ta różnica?"
   ]
  },
  {
   "cell_type": "markdown",
   "id": "3ff7dfe8",
   "metadata": {},
   "source": [
    "#### Na zmiennych typu int i float można wykonywać operacje matematyczne"
   ]
  },
  {
   "cell_type": "code",
   "execution_count": null,
   "id": "9ca8fbe2",
   "metadata": {},
   "outputs": [],
   "source": [
    "a=1\n",
    "b=2.0\n",
    "c=3\n",
    "\n",
    "f1=a+b\n",
    "f2=a-c\n",
    "f3=b*c\n",
    "f4=a/b\n",
    "f5=c**b\n",
    "print(\"Suma a i b wynosi: \",f1)\n",
    "print(\"Różnica a i c wynosi: \",f2)\n",
    "print(\"Iloczyn b i c wynosi: \",f3)\n",
    "print(\"Iloraz a i b wynosi: \",f4)\n",
    "print(\"c podniesione do potęgi b wynosi: \",f4)"
   ]
  },
  {
   "cell_type": "markdown",
   "id": "47cf6c68",
   "metadata": {},
   "source": [
    "Albo tak:"
   ]
  },
  {
   "cell_type": "code",
   "execution_count": null,
   "id": "867a5a2d",
   "metadata": {},
   "outputs": [],
   "source": [
    "a=1\n",
    "b=2.0\n",
    "c=3\n",
    "\n",
    "print(\"Suma a i b wynosi: \",a+b)\n",
    "print(\"Różnica a i c wynosi: \",a-c)\n",
    "print(\"Iloczyn b i c wynosi: \",b*c)\n",
    "print(\"Iloraz a i b wynosi: \",a/b)"
   ]
  },
  {
   "cell_type": "markdown",
   "id": "9e2e67ee",
   "metadata": {},
   "source": [
    "### string"
   ]
  },
  {
   "cell_type": "code",
   "execution_count": null,
   "id": "b426c7a7",
   "metadata": {},
   "outputs": [],
   "source": [
    "tekst1 = \"Hello world!\"\n",
    "print(tekst1)"
   ]
  },
  {
   "cell_type": "markdown",
   "id": "3b1d6f28",
   "metadata": {},
   "source": [
    "#### Zmienne typu string można łączyć"
   ]
  },
  {
   "cell_type": "code",
   "execution_count": null,
   "id": "635436fd",
   "metadata": {},
   "outputs": [],
   "source": [
    "zmienna1 = \"dzien\"\n",
    "zmienna2 = \"dobry\"\n",
    "zmienna3 = zmienna1 + zmienna2\n",
    "print(zmienna3)"
   ]
  },
  {
   "cell_type": "code",
   "execution_count": null,
   "id": "86f9cc6b",
   "metadata": {},
   "outputs": [],
   "source": [
    "zmienna1 = \"dzien\"\n",
    "zmienna2 = \"dobry\"\n",
    "zmienna3 = zmienna1 + \" \" + zmienna2\n",
    "print(zmienna3)"
   ]
  },
  {
   "cell_type": "markdown",
   "id": "167a1b37",
   "metadata": {},
   "source": [
    "### bool"
   ]
  },
  {
   "cell_type": "code",
   "execution_count": null,
   "id": "8a3d8265",
   "metadata": {},
   "outputs": [],
   "source": [
    "zmienna1 = True\n",
    "zmienna2 = False\n",
    "print(zmienna1)"
   ]
  },
  {
   "cell_type": "markdown",
   "id": "29f277d7",
   "metadata": {},
   "source": [
    "Jak sprawdzić jakiego typu jest zmienna?"
   ]
  },
  {
   "cell_type": "code",
   "execution_count": null,
   "id": "8ac915b2",
   "metadata": {},
   "outputs": [],
   "source": [
    "zmienna1= 1\n",
    "zmienna2=1.0\n",
    "zmienna3=\"slowo\"\n",
    "zmienna4=True\n",
    "\n",
    "print(type(zmienna1),type(zmienna2), type(zmienna3), type(zmienna4))"
   ]
  },
  {
   "cell_type": "markdown",
   "id": "358d602a",
   "metadata": {},
   "source": [
    "## Pobieranie znaków z klawiatury"
   ]
  },
  {
   "cell_type": "code",
   "execution_count": null,
   "id": "14a4a028",
   "metadata": {},
   "outputs": [],
   "source": [
    "print(\"Ile masz lat?\")\n",
    "wiek = input()\n",
    "print(\"Masz \", wiek, \" lat\")"
   ]
  },
  {
   "cell_type": "code",
   "execution_count": null,
   "id": "153e8d5b",
   "metadata": {},
   "outputs": [],
   "source": [
    "print(\"Ile masz lat?\")\n",
    "wiek = input()\n",
    "print(\"Za dwa lata będziesz mieć \", wiek +2, \" lat\")"
   ]
  },
  {
   "cell_type": "code",
   "execution_count": null,
   "id": "af3a13ce",
   "metadata": {},
   "outputs": [],
   "source": [
    "print(\"Ile masz lat?\")\n",
    "wiek = int(input())\n",
    "print(\"Za dwa lata będziesz mieć \", wiek +2, \" lat\")"
   ]
  },
  {
   "cell_type": "markdown",
   "id": "aeec5ca6",
   "metadata": {},
   "source": [
    "## Zadania do samodzielnego wykonania"
   ]
  },
  {
   "cell_type": "markdown",
   "id": "21a62376",
   "metadata": {},
   "source": [
    "**Zadanie 1.** Przygotuj program, który pyta Cię o imię. Następnie wita się z Tobą z użyciem wykorzystanego imienia."
   ]
  },
  {
   "cell_type": "code",
   "execution_count": null,
   "id": "09f557d5",
   "metadata": {},
   "outputs": [],
   "source": []
  },
  {
   "cell_type": "markdown",
   "id": "09855f37",
   "metadata": {},
   "source": [
    "**Zadanie 2.** Przygotuj program, który pyta Cię o imię. Wita się z Tobą z użyciem wykorzystanego imienia. Następnie pyta o wiek i także wykorzystuje tę\n",
    "informację. \n",
    "\n",
    "(Można skopiować początek z poprzedniego zadania)"
   ]
  },
  {
   "cell_type": "code",
   "execution_count": null,
   "id": "8a54d715",
   "metadata": {},
   "outputs": [],
   "source": []
  },
  {
   "cell_type": "markdown",
   "id": "b74ac695",
   "metadata": {},
   "source": [
    "**Zadanie 3** Przygotuj program, który pyta Cię o imię. Wita się z Tobą z użyciem wykorzystanego imienia. Następnie pyta o wiek i wyświetla informację ile lat będziesz mieć za rok."
   ]
  },
  {
   "cell_type": "code",
   "execution_count": null,
   "id": "456c27b2",
   "metadata": {},
   "outputs": [],
   "source": []
  },
  {
   "attachments": {
    "image.png": {
     "image/png": "[encoded data removed]"
    }
   },
   "cell_type": "markdown",
   "id": "87b6f1ae",
   "metadata": {},
   "source": [
    "**Zadanie 3** Przygotuj program, który oblicza długość twojego życia w sekundach, minutach, godzinach i dniach.\n",
    "Efekt wykonania kodu powinien być następujący:\n",
    "\n",
    "\n",
    "![image.png](attachment:image.png)\n",
    "\n"
   ]
  },
  {
   "cell_type": "code",
   "execution_count": null,
   "id": "936997cd",
   "metadata": {},
   "outputs": [],
   "source": []
  },
  {
   "cell_type": "markdown",
   "id": "621147a7",
   "metadata": {},
   "source": [
    "**Zadanie 4** Przygotuj program, który pobiera jakąś liczbę z klawiatury, ale wyświetla zawsze zero."
   ]
  },
  {
   "cell_type": "code",
   "execution_count": null,
   "id": "eb7b70f2",
   "metadata": {},
   "outputs": [],
   "source": []
  },
  {
   "cell_type": "markdown",
   "id": "62c280ae",
   "metadata": {},
   "source": [
    "# Instrukcje warunkowe"
   ]
  },
  {
   "cell_type": "markdown",
   "id": "fd879759",
   "metadata": {},
   "source": [
    "### if..."
   ]
  },
  {
   "cell_type": "code",
   "execution_count": null,
   "id": "7034fa55",
   "metadata": {},
   "outputs": [],
   "source": [
    "print(\"Ile masz lat?\")\n",
    "wiek=int(input())\n",
    "if wiek>=18:\n",
    "    print(\"Brawo! Jesteś pełnoletni!\")"
   ]
  },
  {
   "cell_type": "markdown",
   "id": "d503ebab",
   "metadata": {},
   "source": [
    "### Wcięcia"
   ]
  },
  {
   "cell_type": "code",
   "execution_count": null,
   "id": "89336d0b",
   "metadata": {},
   "outputs": [],
   "source": [
    "print(\"Ile masz lat?\")\n",
    "wiek=int(input())\n",
    "if wiek>=18:\n",
    "    print(\"Brawo! Jesteś pełnoletni!\")\n",
    "print(\"To był program sprawdzający pełnoletniość\")"
   ]
  },
  {
   "cell_type": "markdown",
   "id": "51c1100a",
   "metadata": {},
   "source": [
    "### if... else..."
   ]
  },
  {
   "cell_type": "code",
   "execution_count": null,
   "id": "9ad2faa3",
   "metadata": {},
   "outputs": [],
   "source": [
    "print(\"Ile masz lat?\")\n",
    "wiek=int(input())\n",
    "\n",
    "if wiek>=18:\n",
    "    print(\"Jesteś pełnoletni!\")\n",
    "else:\n",
    "    print(\"Nie jesteś pełnoletni!\")"
   ]
  },
  {
   "cell_type": "markdown",
   "id": "58d54139",
   "metadata": {},
   "source": [
    "### if... elif... else..."
   ]
  },
  {
   "cell_type": "code",
   "execution_count": null,
   "id": "91d112b3",
   "metadata": {},
   "outputs": [],
   "source": [
    "print(\"Ile masz lat?\")\n",
    "wiek=int(input())\n",
    "\n",
    "if wiek<=12:\n",
    "    print(\"Jesteś dzieckiem\")\n",
    "elif wiek<=19:\n",
    "    print(\"Jesteś nastolatkiem\")\n",
    "else:\n",
    "    print(\"Jesteś dorosły\")"
   ]
  },
  {
   "cell_type": "code",
   "execution_count": null,
   "id": "a9551e66",
   "metadata": {},
   "outputs": [],
   "source": [
    "print(\"Ile masz lat?\")\n",
    "wiek=int(input())\n",
    "\n",
    "if wiek<=12:\n",
    "    print(\"Jesteś dzieckiem\")\n",
    "if wiek<=19:\n",
    "    print(\"Jesteś nastolatkiem\")\n",
    "else:\n",
    "    print(\"Jesteś dorosły\")"
   ]
  },
  {
   "cell_type": "markdown",
   "id": "820b5e8d",
   "metadata": {},
   "source": [
    "Z czego wynika ta różnica?"
   ]
  },
  {
   "cell_type": "markdown",
   "id": "2c2d012f",
   "metadata": {},
   "source": [
    "### Operatory logiczne"
   ]
  },
  {
   "cell_type": "code",
   "execution_count": null,
   "id": "de57fcb1",
   "metadata": {},
   "outputs": [],
   "source": [
    "print(\"Podaj wartość pierwszego wyrazu logicznego\")\n",
    "p=int(input())\n",
    "print(\"Podaj wartość drugiego wyrazu logicznego\")\n",
    "q=int(input())\n",
    "\n",
    "if p and q:\n",
    "    print(\"Prawda\")\n",
    "else:\n",
    "    print(\"Fałsz\")"
   ]
  },
  {
   "cell_type": "markdown",
   "id": "bc0e9747",
   "metadata": {},
   "source": [
    "### Warunki złożone"
   ]
  },
  {
   "cell_type": "code",
   "execution_count": null,
   "id": "fc7a51f0",
   "metadata": {},
   "outputs": [],
   "source": [
    "print(\"Ile masz lat?\")\n",
    "wiek=int(input())\n",
    "\n",
    "if wiek>7 and wiek<12:\n",
    "    print(\"Chodzisz do podstawówki!\")"
   ]
  },
  {
   "cell_type": "code",
   "execution_count": null,
   "id": "4b1f15f4",
   "metadata": {},
   "outputs": [],
   "source": [
    "print(\"Podaj wartość pierwszego wyrazu logicznego\")\n",
    "p=int(input())\n",
    "print(\"Podaj wartość drugiego wyrazu logicznego\")\n",
    "q=int(input())\n",
    "\n",
    "if not (p and q) or q:\n",
    "    print(\"Prawda\")\n",
    "else:\n",
    "    print(\"Fałsz\")"
   ]
  },
  {
   "cell_type": "markdown",
   "id": "e3135a23",
   "metadata": {},
   "source": [
    "### Warunki zagnieżdżone"
   ]
  },
  {
   "cell_type": "code",
   "execution_count": null,
   "id": "e13e6422",
   "metadata": {},
   "outputs": [],
   "source": [
    "print(\"Czy masz ochotę napić się piwa?\")\n",
    "decyzja=input()\n",
    "if decyzja==\"tak\":\n",
    "    print(\"Czy masz ukończone 18 lat?\")\n",
    "    wiek=input()\n",
    "    if wiek==\"tak\":\n",
    "        print(\"Do dna!\")\n",
    "    else:\n",
    "        print(\"Przykro mi, nie możesz\")\n",
    "else:\n",
    "    print(\"No trudno\")"
   ]
  },
  {
   "cell_type": "markdown",
   "id": "f4a495e8",
   "metadata": {},
   "source": [
    "## Zadania do samodzielnego wykonania\n"
   ]
  },
  {
   "cell_type": "markdown",
   "id": "435f4a54",
   "metadata": {},
   "source": [
    "**Zadanie 5** Zbuduj prosty kalkulator. Program powinien pytać o dwie liczby oraz o to, jaka operacja ma zostać wykonana."
   ]
  },
  {
   "cell_type": "code",
   "execution_count": null,
   "id": "53507b63",
   "metadata": {},
   "outputs": [],
   "source": []
  },
  {
   "cell_type": "markdown",
   "id": "c6899f02",
   "metadata": {},
   "source": [
    "**Zadanie 6** Pobierz z klawiatury 2 liczby. Niech program powie, która jest większa."
   ]
  },
  {
   "cell_type": "code",
   "execution_count": null,
   "id": "fdcee9a6",
   "metadata": {},
   "outputs": [],
   "source": []
  },
  {
   "cell_type": "markdown",
   "id": "a447b96d",
   "metadata": {},
   "source": [
    "**Zadanie 7** Pobierz z klawiatury 5 liczb. Niech program wskaże największą z nich."
   ]
  },
  {
   "cell_type": "code",
   "execution_count": null,
   "id": "e08d46fe",
   "metadata": {},
   "outputs": [],
   "source": []
  },
  {
   "cell_type": "markdown",
   "id": "e31768d5",
   "metadata": {},
   "source": [
    "**Zadanie 8** Niech program pobiera liczbę punktów uzyskanych z testu i na tej podstawie wystawia ocenę.\n",
    "\n",
    "Np. 0-5 ndst, 6-7 dst, 7.5-8 dst+, 8.5-9 db, 9.5 db+, 10 bdb."
   ]
  },
  {
   "cell_type": "code",
   "execution_count": null,
   "id": "5eefa89b",
   "metadata": {},
   "outputs": [],
   "source": []
  },
  {
   "cell_type": "markdown",
   "id": "e448367c",
   "metadata": {},
   "source": [
    "**Zadanie 9** Napisz program proszący o nazwę użytkownika i hasło. O hasło ma pytać\n",
    "dwukrotnie. Jeśli dwa razy wpisano różne hasło powinien o tym\n",
    "poinformować. Jeśli hasło zostało wprowadzone prawidłowo, także powinien\n",
    "wyświetlić stosowny monit"
   ]
  },
  {
   "cell_type": "code",
   "execution_count": null,
   "id": "5802364a",
   "metadata": {},
   "outputs": [],
   "source": []
  },
  {
   "attachments": {
    "image.png": {
     "image/png": "[encoded data removed]"
    }
   },
   "cell_type": "markdown",
   "id": "42f24e83",
   "metadata": {},
   "source": [
    "**Zadanie 10** Rozbuduj program, tak, żeby odpowiadał schematowi:\n",
    "\n",
    "![image.png](attachment:image.png)"
   ]
  },
  {
   "cell_type": "code",
   "execution_count": null,
   "id": "f38ac1af",
   "metadata": {},
   "outputs": [],
   "source": []
  },
  {
   "cell_type": "markdown",
   "id": "2d03b458",
   "metadata": {},
   "source": [
    "**Zadanie 11** Napisz program, który wyznacza wartość bezwzględną podanej z klawiatury liczby."
   ]
  },
  {
   "cell_type": "code",
   "execution_count": null,
   "id": "f7497594",
   "metadata": {},
   "outputs": [],
   "source": []
  },
  {
   "cell_type": "markdown",
   "id": "6480bc76",
   "metadata": {},
   "source": [
    "**Zadanie 12** Napisz program, który sprawdza, czy podana liczba jest\n",
    "parzysta, czy nieparzysta. Jeśli jest parzysta, niech program wyświetli wynik\n",
    "podzielenia jej przez 2. Jeśli jest nieparzysta i jest większa od 10, proszę\n",
    "wyświetlić informację ”liczba jest duża”. Jeśli jest nieparzysta i nie jest\n",
    "większa od 10, proszę wyświetlić informację ”liczba jest mała”."
   ]
  },
  {
   "cell_type": "code",
   "execution_count": null,
   "id": "b790b9b0",
   "metadata": {},
   "outputs": [],
   "source": []
  },
  {
   "cell_type": "markdown",
   "id": "ca2fe942",
   "metadata": {},
   "source": [
    "## Pętle"
   ]
  },
  {
   "cell_type": "markdown",
   "id": "9adb5fa4",
   "metadata": {},
   "source": [
    "### Pętla for"
   ]
  },
  {
   "cell_type": "code",
   "execution_count": null,
   "id": "34e72c43",
   "metadata": {},
   "outputs": [],
   "source": [
    "for i in range(10):\n",
    "    print(i)"
   ]
  },
  {
   "cell_type": "code",
   "execution_count": null,
   "id": "146f5554",
   "metadata": {},
   "outputs": [],
   "source": [
    "for i in range (0,10):\n",
    "    print(i)"
   ]
  },
  {
   "cell_type": "code",
   "execution_count": null,
   "id": "f023263f",
   "metadata": {},
   "outputs": [],
   "source": [
    "for i in range(5,10):\n",
    "    print(i)"
   ]
  },
  {
   "cell_type": "code",
   "execution_count": null,
   "id": "d9143211",
   "metadata": {},
   "outputs": [],
   "source": [
    "for i in range(0,30,3):\n",
    "    print(i)"
   ]
  },
  {
   "cell_type": "code",
   "execution_count": null,
   "id": "22c1fc38",
   "metadata": {},
   "outputs": [],
   "source": [
    "for i in range(30,0,-3):\n",
    "    print(i)"
   ]
  },
  {
   "cell_type": "markdown",
   "id": "09053da5",
   "metadata": {},
   "source": [
    "### Zagnieżdżona pętla for"
   ]
  },
  {
   "cell_type": "code",
   "execution_count": null,
   "id": "cdcd78c2",
   "metadata": {},
   "outputs": [],
   "source": [
    "for i in range(1,4):\n",
    "    for j in range(1,3):\n",
    "        print(\"To jest \", i,\" wykonanie zewnętrznej pętli i \", j, \"wykonanie wewnętrznej pętli\")"
   ]
  },
  {
   "cell_type": "markdown",
   "id": "750a6a10",
   "metadata": {},
   "source": [
    "### Pętla while"
   ]
  },
  {
   "cell_type": "code",
   "execution_count": null,
   "id": "b99c401c",
   "metadata": {},
   "outputs": [],
   "source": [
    "cyfra = 1\n",
    "while cyfra !=10:\n",
    "    print(\"Jest to \", cyfra, \"wykonanie pętli while\")\n",
    "    cyfra+=1"
   ]
  },
  {
   "cell_type": "markdown",
   "id": "79e43f1f",
   "metadata": {},
   "source": [
    "### Wciśnij przycisk aby zakończyć program"
   ]
  },
  {
   "cell_type": "code",
   "execution_count": null,
   "id": "85976eca",
   "metadata": {},
   "outputs": [],
   "source": [
    "znak=\"\"\n",
    "print(\"Aby zakończyć program, wciśnij \\\"q\\\"\")\n",
    "while znak!=\"q\":\n",
    "    print(\"Nie wcisnąłeś \\\"q\\\"\")\n",
    "    znak=input()"
   ]
  },
  {
   "cell_type": "markdown",
   "id": "814fbf08",
   "metadata": {},
   "source": [
    "### Nieskończona pętla while i polecenie break"
   ]
  },
  {
   "cell_type": "code",
   "execution_count": null,
   "id": "d954adb6",
   "metadata": {},
   "outputs": [],
   "source": [
    "znak=\"\"\n",
    "print(\"Aby zakończyć program, wciśnij \\\"q\\\"\")\n",
    "while True:\n",
    "    znak=input()\n",
    "    if znak==\"q\":\n",
    "        break\n",
    "    print(\"Nie wcisnąłeś \\\"q\\\"\")"
   ]
  },
  {
   "cell_type": "code",
   "execution_count": null,
   "id": "88583b89",
   "metadata": {},
   "outputs": [],
   "source": [
    "znak=\"\"\n",
    "print(\"Aby zakończyć program, wciśnij \\\"q\\\"\")\n",
    "while True:\n",
    "    znak=input()\n",
    "    if znak!=\"q\":\n",
    "        print(\"Nie wcisnąłeś \\\"q\\\"\")\n",
    "    else:\n",
    "        break"
   ]
  },
  {
   "cell_type": "markdown",
   "id": "340a2396",
   "metadata": {},
   "source": [
    "## Zadania do samodzielnego wykonania"
   ]
  },
  {
   "cell_type": "markdown",
   "id": "e028e5f6",
   "metadata": {},
   "source": [
    "**Zadanie 13** Rozbuduj kalkulator z zadania 5. Tym razem program nie powinien kończyć się po jednokrotnym wykonaniu operacji arytmetycznej. Niech o końcu działania decyduje użytkownik."
   ]
  },
  {
   "cell_type": "code",
   "execution_count": null,
   "id": "51240594",
   "metadata": {},
   "outputs": [],
   "source": []
  },
  {
   "cell_type": "markdown",
   "id": "e296c610",
   "metadata": {},
   "source": [
    "**Zadanie 14** Przygotuj program, który policzy sumę liczb od 0 do 50 (wykorzystaj pętlę).\n"
   ]
  },
  {
   "cell_type": "code",
   "execution_count": null,
   "id": "e041e7de",
   "metadata": {},
   "outputs": [],
   "source": []
  },
  {
   "cell_type": "markdown",
   "id": "6242510d",
   "metadata": {},
   "source": [
    "**Zadanie 15** Przygotuj program, który wyświetli wszystkie liczby w zakresie od 0 do 100, oprócz 4, 38-51, 78-80, 99."
   ]
  },
  {
   "cell_type": "code",
   "execution_count": null,
   "id": "e23d5509",
   "metadata": {},
   "outputs": [],
   "source": []
  },
  {
   "attachments": {
    "image.png": {
     "image/png": "[encoded data removed]"
    }
   },
   "cell_type": "markdown",
   "id": "21a8b98f",
   "metadata": {},
   "source": [
    "**Zadanie 16** Przygotuj program wyświetlający wszystkie liczby od 0 do 99. Nie korzystaj z pętli `for i in range(0,100)`. Wykorzystaj dwie pętle. Każda cyfra danej liczby powinna być wyświetlana osobno.\n",
    "\n",
    "Przykład wykonania:\n",
    "![image.png](attachment:image.png)"
   ]
  },
  {
   "cell_type": "code",
   "execution_count": null,
   "id": "bfffeaa0",
   "metadata": {},
   "outputs": [],
   "source": []
  },
  {
   "cell_type": "markdown",
   "id": "0d842ecb",
   "metadata": {},
   "source": [
    "**Zadanie 17** Zmodyfikuj powyższy program, tak, aby zliczał ilość wystąpień cyfry 3."
   ]
  },
  {
   "cell_type": "code",
   "execution_count": null,
   "id": "99eccba7",
   "metadata": {},
   "outputs": [],
   "source": []
  },
  {
   "cell_type": "markdown",
   "id": "66863774",
   "metadata": {},
   "source": [
    "**Zadanie 18** Przygotuj program, który liczy sumę liczb parzystych z zakresu od 25 do 50.\n",
    "Wykonaj to w dwóch wariantach: za pomocą pętli for i while"
   ]
  },
  {
   "cell_type": "code",
   "execution_count": null,
   "id": "f2890f7e",
   "metadata": {},
   "outputs": [],
   "source": []
  },
  {
   "cell_type": "code",
   "execution_count": null,
   "id": "7d55747f",
   "metadata": {},
   "outputs": [],
   "source": []
  },
  {
   "cell_type": "markdown",
   "id": "74e91978",
   "metadata": {},
   "source": [
    "**Zadanie 19** Przygotuj proste menu. Niech przycisk \"q\" kończy działanie programu, przycisk \"i\" wyświetla imię autora, a przycisk \"n\" wyświetla kierunek i rok studiów."
   ]
  },
  {
   "cell_type": "code",
   "execution_count": null,
   "id": "d4774c4a",
   "metadata": {},
   "outputs": [],
   "source": []
  },
  {
   "cell_type": "markdown",
   "id": "a99594c3",
   "metadata": {},
   "source": [
    "## Listy"
   ]
  },
  {
   "cell_type": "markdown",
   "id": "3b994359",
   "metadata": {},
   "source": [
    "### Długość listy"
   ]
  },
  {
   "cell_type": "code",
   "execution_count": null,
   "id": "3b46d51c",
   "metadata": {},
   "outputs": [],
   "source": [
    "lista_cyfry_trzy = [3, \"three\", \"trzy\", \"III\", \"...\"]\n",
    "print(\"Liczba elementów listy to: \", len(lista_cyfry_trzy))"
   ]
  },
  {
   "cell_type": "markdown",
   "id": "21ef5ebc",
   "metadata": {},
   "source": [
    "### Wyświetlanie zawartości listy"
   ]
  },
  {
   "cell_type": "code",
   "execution_count": null,
   "id": "4d8767d3",
   "metadata": {},
   "outputs": [],
   "source": [
    "lista_cyfry_trzy = [3, \"three\", \"trzy\", \"III\", \"...\"]\n",
    "for i in range(len(lista_cyfry_trzy)):\n",
    "    print(lista_cyfry_trzy[i])"
   ]
  },
  {
   "cell_type": "markdown",
   "id": "03293c18",
   "metadata": {},
   "source": [
    "### Łatwiejszy sposób"
   ]
  },
  {
   "cell_type": "code",
   "execution_count": null,
   "id": "7123d7b9",
   "metadata": {},
   "outputs": [],
   "source": [
    "lista_cyfry_trzy = [3, \"three\", \"trzy\", \"III\", \"...\"]\n",
    "for cyfra in lista_cyfry_trzy:\n",
    "    print(cyfra)"
   ]
  },
  {
   "cell_type": "markdown",
   "id": "71940c0b",
   "metadata": {},
   "source": [
    "### Wyświetlanie zakresu"
   ]
  },
  {
   "cell_type": "code",
   "execution_count": null,
   "id": "6821fe56",
   "metadata": {},
   "outputs": [],
   "source": [
    "lista_cyfry_trzy = [3, \"three\", \"trzy\", \"III\", \"...\"]\n",
    "print(lista_cyfry_trzy[1:2])\n",
    "print(lista_cyfry_trzy[1:4])\n",
    "print(lista_cyfry_trzy[2:])\n",
    "print(lista_cyfry_trzy[:3])"
   ]
  },
  {
   "cell_type": "markdown",
   "id": "42ed8d3f",
   "metadata": {},
   "source": [
    "### Zmiana wartości pola"
   ]
  },
  {
   "cell_type": "code",
   "execution_count": null,
   "id": "931384d0",
   "metadata": {},
   "outputs": [],
   "source": [
    "lista_liczb = [1,2,3]\n",
    "print(\"Oryginalna lista:\",lista_liczb)\n",
    "print(\"Podaj nową wartość zerowego elementu\")\n",
    "lista_liczb[0] = int(input())\n",
    "print(\"Nowa lista:\",lista_liczb)"
   ]
  },
  {
   "cell_type": "markdown",
   "id": "c21f18a3",
   "metadata": {},
   "source": [
    "### Dodawanie elementów"
   ]
  },
  {
   "cell_type": "code",
   "execution_count": null,
   "id": "617ef869",
   "metadata": {},
   "outputs": [],
   "source": [
    "lista_liczb = [1,2,3]\n",
    "print(\"Oryginalna lista:\",lista_liczb)\n",
    "dodaj = input(\"Jaki element dodać?\")\n",
    "lista_liczb.append(dodaj)\n",
    "print(\"Nowa lista:\",lista_liczb)"
   ]
  },
  {
   "cell_type": "code",
   "execution_count": null,
   "id": "e54d8c41",
   "metadata": {},
   "outputs": [],
   "source": [
    "lista_liczb = [1,2,3]\n",
    "print(\"Oryginalna lista:\",lista_liczb)\n",
    "dodaj = int(input(\"Jaki element dodać?\"))\n",
    "lista_liczb.append(dodaj)\n",
    "print(\"Nowa lista:\",lista_liczb)"
   ]
  },
  {
   "cell_type": "markdown",
   "id": "6128114f",
   "metadata": {},
   "source": [
    "### Usuwanie elementów"
   ]
  },
  {
   "cell_type": "code",
   "execution_count": null,
   "id": "1c4d46b7",
   "metadata": {},
   "outputs": [],
   "source": [
    "lista_liczb = [1,2,3]\n",
    "print(\"Oryginalna lista:\",lista_liczb)\n",
    "usun= int(input(\"Jaki element usunąć?\"))\n",
    "lista_liczb.remove(usun)\n",
    "print(\"Nowa lista:\",lista_liczb)"
   ]
  },
  {
   "cell_type": "code",
   "execution_count": null,
   "id": "b53788c8",
   "metadata": {},
   "outputs": [],
   "source": [
    "lista_liczb = [1,2,3,2,5,2,4]\n",
    "print(\"Oryginalna lista:\",lista_liczb)\n",
    "for i in range(len(lista_liczb)):\n",
    "    if lista_liczb[i] == 2:\n",
    "        lista_liczb.remove(lista_liczb[i])\n",
    "print(\"Nowa lista:\",lista_liczb)"
   ]
  },
  {
   "cell_type": "code",
   "execution_count": null,
   "id": "8e95d6d6",
   "metadata": {},
   "outputs": [],
   "source": [
    "lista_liczb = [1,2,3,2,5,2,4]\n",
    "print(\"Oryginalna lista:\",lista_liczb)\n",
    "for liczba in lista_liczb[:]:\n",
    "    if liczba == 2:\n",
    "        lista_liczb.remove(liczba)\n",
    "print(\"Nowa lista:\",lista_liczb)"
   ]
  },
  {
   "cell_type": "markdown",
   "id": "797fad35",
   "metadata": {},
   "source": [
    "## Zadania do samodzielnego wykonania"
   ]
  },
  {
   "cell_type": "markdown",
   "id": "e1a499e3",
   "metadata": {},
   "source": [
    "**Zadanie 20** Stwórz listę \"przedmioty\" i zapisz w niej nazwy przedmiotów szkolnych. Stwórz listę \"oceny\" i poproś użytkownika o podanie oceny końcowej z danego przedmiotu. Wyświetl przedmioty i oceny w następującej formie:\n",
    "\n",
    "Ocena z języka polskiego to 5\n",
    "\n",
    "Ocena z matematyki to 4\n",
    "\n",
    "Ocena z języka angielskiego to 5"
   ]
  },
  {
   "cell_type": "code",
   "execution_count": null,
   "id": "9e2640f6",
   "metadata": {},
   "outputs": [],
   "source": []
  },
  {
   "cell_type": "markdown",
   "id": "6ce77399",
   "metadata": {},
   "source": [
    "**Zadanie 21** Napisz program, który do pustej liczby dodaje cyfry od 9 do 0\n",
    "\n",
    "Pusta lista:\n",
    "\n",
    "lista=[]"
   ]
  },
  {
   "cell_type": "code",
   "execution_count": null,
   "id": "f213535d",
   "metadata": {},
   "outputs": [],
   "source": []
  },
  {
   "cell_type": "markdown",
   "id": "78207617",
   "metadata": {},
   "source": [
    "**Zadanie 22** Zapytaj użytkownika ile cyfr pobrać, a następnie pobierz je z klawiatury. Sprawdź które z nich są parzyste, a które nie. Wyświetl podsumowanie np.:\n",
    "\n",
    "cyfra 1 jest nieparzysta\n",
    "\n",
    "cyfra 8 jest parzysta "
   ]
  },
  {
   "cell_type": "code",
   "execution_count": null,
   "id": "505ccc82",
   "metadata": {},
   "outputs": [],
   "source": []
  },
  {
   "cell_type": "markdown",
   "id": "63825787",
   "metadata": {},
   "source": [
    "**Zadanie 23** Stwórz dwie listy: jedną zawierającą imiona, drugą zarobki. Napisz program wyświetlający listę osób i ich zarobki. Program powinien umożliwiać dodawanie nowych osób do listy."
   ]
  },
  {
   "cell_type": "code",
   "execution_count": null,
   "id": "8ab2133f",
   "metadata": {},
   "outputs": [],
   "source": []
  }
 ],
 "metadata": {
  "kernelspec": {
   "display_name": "Python 3 (ipykernel)",
   "language": "python",
   "name": "python3"
  },
  "language_info": {
   "codemirror_mode": {
    "name": "ipython",
    "version": 3
   },
   "file_extension": ".py",
   "mimetype": "text/x-python",
   "name": "python",
   "nbconvert_exporter": "python",
   "pygments_lexer": "ipython3",
   "version": "3.11.1"
  }
 },
 "nbformat": 4,
 "nbformat_minor": 5
}
