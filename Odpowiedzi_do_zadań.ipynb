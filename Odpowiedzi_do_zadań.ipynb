{
 "cells": [
  {
   "cell_type": "markdown",
   "id": "61f0152d",
   "metadata": {},
   "source": [
    "**Zadanie 1.** Przygotuj program, który pyta Cię o imię. Następnie wita się z Tobą z użyciem wykorzystanego imienia."
   ]
  },
  {
   "cell_type": "code",
   "execution_count": null,
   "id": "7ed198cf",
   "metadata": {},
   "outputs": [],
   "source": [
    "#Pytamy użytkownika o imię\n",
    "print(\"Jak masz na imię?\")\n",
    "imie=input()\n",
    "\n",
    "#Wypisujemy powitanie\n",
    "print(\"Cześć \", imie)"
   ]
  },
  {
   "cell_type": "markdown",
   "id": "5f9f0359",
   "metadata": {},
   "source": [
    "**Zadanie 2.** Przygotuj program, który pyta Cię o imię. Wita się z Tobą z użyciem wykorzystanego imienia. Następnie pyta o wiek i także wykorzystuje tę\n",
    "informację. \n",
    "\n",
    "(Można skopiować początek z poprzedniego zadania)"
   ]
  },
  {
   "cell_type": "code",
   "execution_count": null,
   "id": "c06fd063",
   "metadata": {},
   "outputs": [],
   "source": [
    "#Pytamy użytkownika o imię\n",
    "print(\"Jak masz na imię?\")\n",
    "imie=input()\n",
    "\n",
    "#Wypisujemy powitanie\n",
    "print(\"Cześć \", imie)\n",
    "\n",
    "#Pytamy o wiek\n",
    "print(\"Ile masz lat?\")\n",
    "wiek=input()\n",
    "\n",
    "#Wykorzystujemy informację\n",
    "print(imie, \"masz\", wiek, \"lat\")"
   ]
  },
  {
   "cell_type": "markdown",
   "id": "ee1d56ec",
   "metadata": {},
   "source": [
    "**Zadanie 3** Przygotuj program, który pyta Cię o imię. Wita się z Tobą z użyciem wykorzystanego imienia. Następnie pyta o wiek i wyświetla informację ile lat będziesz mieć za rok."
   ]
  },
  {
   "cell_type": "code",
   "execution_count": null,
   "id": "bce0bc0c",
   "metadata": {},
   "outputs": [],
   "source": [
    "#Pytamy użytkownika o imię\n",
    "print(\"Jak masz na imię?\")\n",
    "imie=input()\n",
    "\n",
    "#Wypisujemy powitanie\n",
    "print(\"Cześć \", imie)\n",
    "\n",
    "#Pytamy o wiek\n",
    "print(\"Ile masz lat?\")\n",
    "wiek=int(input())\n",
    "\n",
    "#Wyświetlamy ile lat użytkownik będzie miał za rok\n",
    "print(\"Za rok będziesz mieć \", wiek+1, \"lat\")"
   ]
  },
  {
   "cell_type": "markdown",
   "id": "22ac319b",
   "metadata": {},
   "source": [
    "**Zadanie 4** Przygotuj program, który oblicza długość twojego życia w sekundach, minutach, godzinach i dniach."
   ]
  },
  {
   "cell_type": "code",
   "execution_count": null,
   "id": "acd38885",
   "metadata": {},
   "outputs": [],
   "source": [
    "#Pytamy o wiek\n",
    "print(\"Ile masz lat?\")\n",
    "wiek=int(input())\n",
    "\n",
    "#Obliczamy długość życia w dniach\n",
    "dni=wiek*365\n",
    "\n",
    "#Obliczamy długość życia w godzinach\n",
    "godziny=dni*24\n",
    "\n",
    "#Obliczamy długość życia w minutach\n",
    "minuty=godziny*60\n",
    "\n",
    "#Obliczamy długość życia w sekundach\n",
    "sekundy=minuty*60\n",
    "\n",
    "#Wyświetlamy informację\n",
    "print(\"Żyjesz już\", sekundy, \"sekund \\n Co składa się na \\n\", dni, \"dni\\n\", godziny, \"godziny\\n\", minuty, \"minuty\")"
   ]
  },
  {
   "cell_type": "markdown",
   "id": "7ccbea0b",
   "metadata": {},
   "source": [
    "**Zadanie 5** Przygotuj program, który pobiera jakąś liczbę z klawiatury, ale wyświetla zawsze zero."
   ]
  },
  {
   "cell_type": "code",
   "execution_count": null,
   "id": "4b0e802b",
   "metadata": {},
   "outputs": [],
   "source": [
    "#Pobieramy liczbę\n",
    "liczba=int(input(\"Podaj liczbę\"))\n",
    "#Wyświetlamy zero\n",
    "print(0)"
   ]
  },
  {
   "cell_type": "markdown",
   "id": "ac1f3d73",
   "metadata": {},
   "source": [
    "**Zadanie 6** Zbuduj prosty kalkulator. Program powinien pytać o dwie liczby oraz o to, jaka operacja ma zostać wykonana."
   ]
  },
  {
   "cell_type": "code",
   "execution_count": null,
   "id": "a16d1436",
   "metadata": {},
   "outputs": [],
   "source": [
    "#Pytamy o dwie liczby\n",
    "liczba1=float(input(\"Podaj pierwszą liczbę\"))\n",
    "liczba2=float(input(\"Podaj drugą liczbę\"))\n",
    "#Pytamy o operację\n",
    "operacja=input(\"Jaką operację na nich wykonać? Do wyboru: +,-,/,%,*,**\")\n",
    "#Program kalklatora\n",
    "if operacja==\"+\":\n",
    "    print(liczba1+liczba2)\n",
    "elif operacja==\"-\":\n",
    "    print(liczba1-liczba2)\n",
    "elif operacja==\"/\":\n",
    "    print(liczba1/liczba2)\n",
    "elif operacja==\"%\": #% - modulo\n",
    "    print(liczba1%liczba2)\n",
    "elif operacja==\"*\": #% - modulo\n",
    "    print(liczba1*liczba2)\n",
    "elif operacja==\"**\": #% - modulo\n",
    "    print(liczba1**liczba2)"
   ]
  },
  {
   "cell_type": "markdown",
   "id": "cb0433a5",
   "metadata": {},
   "source": [
    "**Zadanie 6** Pobierz z klawiatury 2 liczby. Niech program powie, która jest większa."
   ]
  },
  {
   "cell_type": "code",
   "execution_count": null,
   "id": "439587b5",
   "metadata": {},
   "outputs": [],
   "source": [
    "#Pobieramy dwie liczby\n",
    "liczba1=float(input(\"Podaj pierwszą liczbę\"))\n",
    "liczba2=float(input(\"Podaj drugą liczbę\"))\n",
    "#Sprawdzamy, która jest większa\n",
    "if liczba1>liczba2:\n",
    "    print(liczba1, \"jest większa od\", liczba2)\n",
    "elif liczba2>liczba1:\n",
    "    print(liczba2, \"jest większa od\", liczba1)\n",
    "else:\n",
    "    print(\"Obie liczby są równe\")"
   ]
  },
  {
   "cell_type": "markdown",
   "id": "64e4e7a7",
   "metadata": {},
   "source": [
    "**Zadanie 7** Pobierz z klawiatury 5 liczb. Niech program wskaże największą z nich."
   ]
  },
  {
   "cell_type": "code",
   "execution_count": null,
   "id": "ceb1d0ed",
   "metadata": {},
   "outputs": [],
   "source": [
    "#Pobieramy pięć liczb\n",
    "liczba1=float(input(\"Podaj pierwszą liczbę\"))\n",
    "liczba2=float(input(\"Podaj drugą liczbę\"))\n",
    "liczba3=float(input(\"Podaj trzecią liczbę\"))\n",
    "liczba4=float(input(\"Podaj czwartą liczbę\"))\n",
    "liczba5=float(input(\"Podaj piątą liczbę\"))\n",
    "#Tworzymy zmienną, która przechowuje aktualnie największą liczbę znaną programowi i przypisujemy jej wartość pierwszej liczby\n",
    "max_number=liczba1\n",
    "#Sprawdzamy, czy któraś z pozostałych liczb jest większa\n",
    "if liczba2 > max_number:\n",
    "    max_number = liczba2\n",
    "if liczba3 > max_number:\n",
    "    max_number = liczba3\n",
    "if liczba4 > max_number:\n",
    "    max_number = liczba4\n",
    "if liczba5 > max_number:\n",
    "    max_number = liczba5\n",
    "print(\"Największa liczba to: \", max_number)"
   ]
  },
  {
   "cell_type": "markdown",
   "id": "8ff11d51",
   "metadata": {},
   "source": [
    "**Zadanie 8** Niech program pobiera liczbę punktów uzyskanych z testu i na tej podstawie wystawia ocenę."
   ]
  },
  {
   "cell_type": "code",
   "execution_count": null,
   "id": "2f04c1c9",
   "metadata": {},
   "outputs": [],
   "source": [
    "#Pobieramy liczbę punktów\n",
    "punkty=float(input(\"Podaj liczbę punktów\"))\n",
    "\n",
    "#Sprawdzamy, w którym przedziale zawiera się liczba punktów\n",
    "if punkty<=5:\n",
    "    print(\"Twoja ocena to ndst\")\n",
    "elif punkty>=6 and punkty<=7:\n",
    "    print(\"Twoja ocena to dst\")\n",
    "elif punkty>=7.5 and punkty <=8:\n",
    "    print(\"Twoja ocena to dst+\")\n",
    "elif punkty>=8.5 and punkty<=9:\n",
    "    print(\"Twoja ocena to db\")\n",
    "elif punkty ==9.5:\n",
    "    print(\"Twoja ocena to db+\")\n",
    "elif punkty ==10:\n",
    "    print(\"Twoja ocena to bdb\")"
   ]
  },
  {
   "cell_type": "markdown",
   "id": "4cf43977",
   "metadata": {},
   "source": [
    "**Zadanie 9** Napisz program proszący o nazwę użytkownika i hasło. O hasło ma pytać\n",
    "dwukrotnie. Jeśli dwa razy wpisano różne hasło powinien o tym\n",
    "poinformować. Jeśli hasło zostało wprowadzone prawidłowo, także powinien\n",
    "wyświetlić stosowny monit"
   ]
  },
  {
   "cell_type": "code",
   "execution_count": null,
   "id": "c984e657",
   "metadata": {},
   "outputs": [],
   "source": [
    "#Pytamy o nazwę użytkownika i hasło\n",
    "nazwa=input(\"Podaj nazwę użytkownika\")\n",
    "haslo1=input(\"Podaj hasło\")\n",
    "#Pytamy o hasło ponownie\n",
    "haslo2=input(\"Powtórz hasło\")\n",
    "#Sprawdzamy czy hasła są zgodne\n",
    "if haslo1==haslo2:\n",
    "    print(\"Hasła zgodne\")\n",
    "else: \n",
    "    print(\"Hasła niezgodne\")"
   ]
  },
  {
   "cell_type": "markdown",
   "id": "f83d8f56",
   "metadata": {},
   "source": [
    "**Zadanie 10** - obrazek w zeszycie ćwiczeń"
   ]
  },
  {
   "cell_type": "code",
   "execution_count": null,
   "id": "b1f31a12",
   "metadata": {},
   "outputs": [],
   "source": [
    "#Pytamy o nazwę użytkownika i hasło\n",
    "nazwa=input(\"Podaj nazwę użytkownika\")\n",
    "haslo1=input(\"Podaj hasło\")\n",
    "#Pytamy o hasło ponownie\n",
    "haslo2=input(\"Powtórz hasło\")\n",
    "#Sprawdzamy czy hasła są zgodne\n",
    "if haslo1==haslo2:\n",
    "    print(\"Hasła zgodne\")\n",
    "    #Sprawdzamy kolejny warunek itd\n",
    "    wiek=input(\"Czy masz 18 lat?\") \n",
    "    if wiek==\"Tak\":\n",
    "        print(\"Możesz założyć konto\")\n",
    "    elif wiek==\"Nie\":\n",
    "        zgoda=input(\"Czy masz zgodę rodziców?\")\n",
    "        if zgoda==\"Tak\":\n",
    "            print(\"Konto założone\")\n",
    "        elif zgoda==\"Nie\":\n",
    "            print(\"Nie możesz założyć konta\")\n",
    "else: \n",
    "    print(\"Hasła niezgodne\")"
   ]
  },
  {
   "cell_type": "markdown",
   "id": "403e877d",
   "metadata": {},
   "source": [
    "**Zadanie 11** Napisz program, który wyznacza wartość bezwzględną podanej z klawiatury liczby."
   ]
  },
  {
   "cell_type": "code",
   "execution_count": null,
   "id": "cc7b46da",
   "metadata": {},
   "outputs": [],
   "source": [
    "#Pobieramy liczbę\n",
    "liczba=float(input(\"Podaj liczbę\"))\n",
    "#Wyświetlamy wartość bezwzględną funkcją abs() - od absolute value\n",
    "print(abs(liczba))"
   ]
  },
  {
   "cell_type": "markdown",
   "id": "4f504a56",
   "metadata": {},
   "source": [
    "**Zadanie 12** Napisz program, który sprawdza, czy podana liczba jest\n",
    "parzysta, czy nieparzysta. Jeśli jest parzysta, niech program wyświetli wynik\n",
    "podzielenia jej przez 2. Jeśli jest nieparzysta i jest większa od 10, proszę\n",
    "wyświetlić informację ”liczba jest duża”. Jeśli jest nieparzysta i nie jest\n",
    "większa od 10, proszę wyświetlić informację ”liczba jest mała”."
   ]
  },
  {
   "cell_type": "code",
   "execution_count": null,
   "id": "ea9c5b16",
   "metadata": {},
   "outputs": [],
   "source": [
    "# Pytamy użytkownika o liczbę\n",
    "number = int(input(\"Podaj liczbę: \"))\n",
    "\n",
    "# Sprawdzamy, czy liczba jest parzysta czy nieparzysta\n",
    "if number % 2 == 0:\n",
    "    # Jeśli liczba jest parzysta, dzielimy ją przez 2 i wyświetlamy wynik\n",
    "    result = number / 2\n",
    "    print(\"Liczba\",number\" jest parzysta. Wynik dzielenia przez 2 to \", result)\n",
    "else:\n",
    "    # Jeśli liczba jest nieparzysta, sprawdzamy jej wartość i wyświetlamy odpowiedni komunikat\n",
    "    if number > 10:\n",
    "        print(\"Liczba\",number, \" jest nieparzysta i jest duża.\")\n",
    "    else:\n",
    "        print(\"Liczba\",number,\"jest nieparzysta i jest mała.\")"
   ]
  },
  {
   "cell_type": "markdown",
   "id": "3d993a7f",
   "metadata": {},
   "source": [
    "**Zadanie 13** Rozbuduj kalkulator z zadania 5. Tym razem program nie powinien kończyć się po jednokrotnym wykonaniu operacji arytmetycznej. Niech o końcu działania decyduje użytkownik."
   ]
  },
  {
   "cell_type": "code",
   "execution_count": null,
   "id": "c8f822e8",
   "metadata": {},
   "outputs": [],
   "source": [
    "znak=\"\" #Przygotowujemy miejsce w pamięci na zmienną znak\n",
    "#Wykonuj program dopóki użytkownik nie wpisze \"Tak\"\n",
    "while znak!=\"Tak\":\n",
    "    #Pytamy o dwie liczby\n",
    "    liczba1=float(input(\"Podaj pierwszą liczbę\"))\n",
    "    liczba2=float(input(\"Podaj drugą liczbę\"))\n",
    "    #Pytamy o operację\n",
    "    operacja=input(\"Jaką operację na nich wykonać? Do wyboru: +,-,/,%,*,**\")\n",
    "    #Program kalklatora\n",
    "    if operacja==\"+\":\n",
    "        print(liczba1+liczba2)\n",
    "    elif operacja==\"-\":\n",
    "        print(liczba1-liczba2)\n",
    "    elif operacja==\"/\":\n",
    "        print(liczba1/liczba2)\n",
    "    elif operacja==\"%\": #% - modulo\n",
    "        print(liczba1%liczba2)\n",
    "    elif operacja==\"*\": #% - modulo\n",
    "        print(liczba1*liczba2)\n",
    "    elif operacja==\"**\": #% - modulo\n",
    "        print(liczba1**liczba2)\n",
    "    znak=input(\"Czy chcesz zakończyć działanie programu?\")"
   ]
  },
  {
   "cell_type": "markdown",
   "id": "88e06284",
   "metadata": {},
   "source": [
    "**Zadanie 14** Przygotuj program, który policzy sumę liczb od 0 do 50 (wykorzystaj pętlę).\n"
   ]
  },
  {
   "cell_type": "code",
   "execution_count": null,
   "id": "95129417",
   "metadata": {},
   "outputs": [],
   "source": [
    "wynik1=0\n",
    "for i in range(0,51):\n",
    "    wynik1= wynik1+i\n",
    "print(\"Suma liczb od 0 do 50 to: \", wynik1)"
   ]
  },
  {
   "cell_type": "markdown",
   "id": "04a56135",
   "metadata": {},
   "source": [
    "**Zadanie 15** Przygotuj program, który wyświetli wszystkie liczby w zakresie od 0 do 100, oprócz 4, 38-51, 78-80, 99."
   ]
  },
  {
   "cell_type": "code",
   "execution_count": null,
   "id": "bd3d2b78",
   "metadata": {},
   "outputs": [],
   "source": [
    "for number in range(101):\n",
    "    if number != 4 and not (38 <= number <= 51) and not (78 <= number <= 80) and number != 99:\n",
    "        print(number)"
   ]
  },
  {
   "cell_type": "markdown",
   "id": "91b55cec",
   "metadata": {},
   "source": [
    "**Zadanie 16** Przygotuj program wyświetlający wszystkie liczby od 0 do 99. Nie korzystaj z pętli `for i in range(0,100)`. Wykorzystaj dwie pętle. Każda cyfra danej liczby powinna być wyświetlana osobno."
   ]
  },
  {
   "cell_type": "code",
   "execution_count": null,
   "id": "7dffae55",
   "metadata": {},
   "outputs": [],
   "source": [
    "for i in range(10):\n",
    "    for j in range (10):\n",
    "        print(i,j)"
   ]
  },
  {
   "cell_type": "markdown",
   "id": "777b581a",
   "metadata": {},
   "source": [
    "**Zadanie 17** Zmodyfikuj powyższy program, tak, aby zliczał ilość wystąpień cyfry 3."
   ]
  },
  {
   "cell_type": "code",
   "execution_count": null,
   "id": "ff8523f1",
   "metadata": {},
   "outputs": [],
   "source": [
    "count=0\n",
    "for i in range(0,10):\n",
    "    for j in range (10):\n",
    "        if i ==3:\n",
    "            count+=1\n",
    "        if j==3:\n",
    "            count+=1\n",
    "        print(i,j)\n",
    "print(\"Liczba wystąpień cyfry 3: \", count)"
   ]
  },
  {
   "cell_type": "markdown",
   "id": "863e4d68",
   "metadata": {},
   "source": [
    "**Zadanie 18** Przygotuj program, który liczy sumę liczb parzystych z zakresu od 25 do 50.\n",
    "Wykonaj to w dwóch wariantach: za pomocą pętli for i while"
   ]
  },
  {
   "cell_type": "code",
   "execution_count": null,
   "id": "d408e21e",
   "metadata": {},
   "outputs": [],
   "source": [
    "sum_for = 0\n",
    "for i in range(25, 51):\n",
    "    if i % 2 == 0:\n",
    "        sum_for += i\n",
    "print(\"Suma liczb parzystych z zakresu od 25 do 50, obliczona przy użyciu pętli for: \", sum_for)\n",
    "\n",
    "sum_while = 0\n",
    "i = 25\n",
    "while i <= 50:\n",
    "    if i % 2 == 0:\n",
    "        sum_while += i\n",
    "    i += 1\n",
    "print(\"Suma liczb parzystych z zakresu od 25 do 50, obliczona przy użyciu pętli while: \", sum_while)\n"
   ]
  },
  {
   "cell_type": "markdown",
   "id": "dfab2222",
   "metadata": {},
   "source": [
    "**Zadanie 19** Przygotuj proste menu. Niech przycisk \"q\" kończy działanie programu, przycisk \"i\" wyświetla imię autora, a przycisk \"n\" wyświetla kierunek i rok studiów."
   ]
  },
  {
   "cell_type": "code",
   "execution_count": null,
   "id": "3481c10c",
   "metadata": {},
   "outputs": [],
   "source": [
    "znak=\"\"\n",
    "imie=\"Jan\"\n",
    "nazwisko=\"Kowalski\"\n",
    "kierunek=\"Kognitywistyka\"\n",
    "rok=1\n",
    "\n",
    "\n",
    "while True:\n",
    "    print(\"Aby zakończyć program, wciśnij \\\"q\\\"\")\n",
    "    print(\"Aby wyświetlic imie i nazwisko, wcisnij \\\"a\\\"\")\n",
    "    print(\"Aby wyświetlic kierunek i rok studiów, wcisnij \\\"i\\\"\")\n",
    "    znak=input()\n",
    "    if znak==\"q\":\n",
    "        break\n",
    "    elif znak==\"a\":\n",
    "        print(imie, \" \",nazwisko)\n",
    "    elif znak==\"i\":\n",
    "        print(Kierunek, \" rok\",rok)\n",
    "    else:\n",
    "        print(\"Nieprawidłowy znak\")"
   ]
  },
  {
   "cell_type": "markdown",
   "id": "d6672964",
   "metadata": {},
   "source": [
    "**Zadanie 20** Stwórz listę \"przedmioty\" i zapisz w niej nazwy przedmiotów szkolnych. Stwórz listę \"oceny\" i poproś użytkownika o podanie oceny końcowej z danego przedmiotu. Wyświetl przedmioty i oceny w następującej formie:\n",
    "\n",
    "Ocena z języka polskiego to 5\n",
    "\n",
    "Ocena z matematyki to 4\n",
    "\n",
    "Ocena z języka angielskiego to 5"
   ]
  },
  {
   "cell_type": "code",
   "execution_count": null,
   "id": "dd03975d",
   "metadata": {},
   "outputs": [],
   "source": [
    "przedmioty=[\"język polski\", \"matematyka\", \"język angielski\"]\n",
    "oceny=[]\n",
    "for i in range(len(przedmioty)):\n",
    "    print(\"Jaką masz ocenę z przedmiotu \", przedmioty[i],\"?\")\n",
    "    ocena=input()\n",
    "    oceny.append(ocena)\n",
    "for i in range(len(przedmioty)):\n",
    "    print(\"Ocena z przedmiotu\", przedmioty[i], \"to \", oceny[i])"
   ]
  },
  {
   "cell_type": "markdown",
   "id": "0ae91ae5",
   "metadata": {},
   "source": [
    "**Zadanie 21** Napisz program, który do pustej listy dodaje cyfry od 9 do 0"
   ]
  },
  {
   "cell_type": "code",
   "execution_count": null,
   "id": "edc490d5",
   "metadata": {},
   "outputs": [],
   "source": [
    "lista=[]\n",
    "for i in range(9,-1,-1):\n",
    "    lista.append(i)\n",
    "print(lista)"
   ]
  },
  {
   "cell_type": "markdown",
   "id": "fde74147",
   "metadata": {},
   "source": [
    "**Zadanie 22** Zapytaj użytkownika ile cyfr pobrać, a następnie pobierz je z klawiatury. Sprawdź które z nich są parzyste, a które nie. Wyświetl podsumowanie np.:\n",
    "\n",
    "cyfra 1 jest nieparzysta\n",
    "\n",
    "cyfra 8 jest parzysta "
   ]
  },
  {
   "cell_type": "code",
   "execution_count": null,
   "id": "e85ade3d",
   "metadata": {},
   "outputs": [],
   "source": [
    "ilosc=int(input(\"Ile cyfr pobrać?\"))\n",
    "liczby=[]\n",
    "\n",
    "for i in range(ilosc):\n",
    "    liczba=int(input(\"Podaj liczbę\"))\n",
    "    liczby.append(liczba)\n",
    "for i in liczby:\n",
    "    if i%2==0:\n",
    "        print(\"cyfra \",i, \"jest parzysta\")\n",
    "    else:\n",
    "        print(\"cyfra \",i, \"jest nieparzysta\")"
   ]
  },
  {
   "cell_type": "markdown",
   "id": "605d7d5d",
   "metadata": {},
   "source": [
    "**Zadanie 23** Stwórz dwie listy: jedną zawierającą imiona, drugą zarobki. Napisz program wyświetlający listę osób i ich zarobki. Program powinien umożliwiać dodawanie nowych osób do listy."
   ]
  },
  {
   "cell_type": "code",
   "execution_count": null,
   "id": "fa02415d",
   "metadata": {},
   "outputs": [],
   "source": [
    "imiona=[\"Kasia\",\"Basia\",\"Michał\"]\n",
    "zarobki=[5000.0,6000,10000]\n",
    "znak=\"\"\n",
    "while znak!=\"q\":\n",
    "    print(\"Aby zakończyć program, wciśnij \\\"q\\\"\")\n",
    "    print(\"Aby dodać nową osobę, wciśnij \\\"n\\\"\")\n",
    "    print(\"Aby wyświetlić liczbę osób i ich zarobki, wciśnij \\\"w\\\"\")\n",
    "    znak=input(\"Wciśnij przycisk \")\n",
    "    if znak==\"q\":\n",
    "        break\n",
    "    elif znak==\"n\":\n",
    "        imie=input(\"Podaj imię \")\n",
    "        imiona.append(imie)\n",
    "        zarobek=float(input(\"Jakie ma zarobki? \"))\n",
    "        zarobki.append(zarobek)\n",
    "    elif znak==\"w\":\n",
    "        for i in range(len(imiona)):\n",
    "            print(imiona[i], zarobki[i])\n",
    "        \n",
    "    "
   ]
  }
 ],
 "metadata": {
  "kernelspec": {
   "display_name": "Python 3 (ipykernel)",
   "language": "python",
   "name": "python3"
  },
  "language_info": {
   "codemirror_mode": {
    "name": "ipython",
    "version": 3
   },
   "file_extension": ".py",
   "mimetype": "text/x-python",
   "name": "python",
   "nbconvert_exporter": "python",
   "pygments_lexer": "ipython3",
   "version": "3.11.1"
  }
 },
 "nbformat": 4,
 "nbformat_minor": 5
}
